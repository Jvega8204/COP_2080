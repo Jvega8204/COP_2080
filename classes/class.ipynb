{
 "cells": [
  {
   "cell_type": "code",
   "execution_count": 1,
   "id": "9094c1a7",
   "metadata": {},
   "outputs": [
    {
     "name": "stdout",
     "output_type": "stream",
     "text": [
      "Woof! Woof!\n"
     ]
    }
   ],
   "source": [
    "#Dog class\n",
    "\n",
    "#self refers to an instance of the class \n",
    "class Dog: \n",
    "    def bark(self): #instance method\n",
    "        return \"Woof! Woof!\"\n",
    "\n",
    "#Create an instance of Dog \n",
    "my_dog = Dog()\n",
    "#Call bark method\n",
    "print(my_dog.bark())"
   ]
  },
  {
   "cell_type": "code",
   "execution_count": 3,
   "id": "4e2cf585",
   "metadata": {},
   "outputs": [
    {
     "name": "stdout",
     "output_type": "stream",
     "text": [
      "100\n"
     ]
    }
   ],
   "source": [
    "class Square:\n",
    "    side = 8 \n",
    "    # Crate an instance method area\n",
    "    def area(self):\n",
    "         return self.side**2\n",
    "# Create an instance of Square\n",
    "s1 = Square()\n",
    "s1.side = 10\n",
    "# Print the area \n",
    "print(s1.area())"
   ]
  },
  {
   "cell_type": "code",
   "execution_count": null,
   "id": "6bb12e59",
   "metadata": {},
   "outputs": [],
   "source": [
    "# __init__ method (constructor)\n",
    "# use it to initialize the properties of a new object\n",
    "class Cat:\n",
    "    def __init__(self, name):\n",
    "        self.name = name\n",
    "\n",
    "leopold = Cat(\"Leopold\")\n",
    "print(leopold.name)"
   ]
  }
 ],
 "metadata": {
  "kernelspec": {
   "display_name": "Python 3",
   "language": "python",
   "name": "python3"
  },
  "language_info": {
   "codemirror_mode": {
    "name": "ipython",
    "version": 3
   },
   "file_extension": ".py",
   "mimetype": "text/x-python",
   "name": "python",
   "nbconvert_exporter": "python",
   "pygments_lexer": "ipython3",
   "version": "3.12.1"
  }
 },
 "nbformat": 4,
 "nbformat_minor": 5
}
