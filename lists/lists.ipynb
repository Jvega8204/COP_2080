{
 "cells": [
  {
   "cell_type": "code",
   "execution_count": 1,
   "id": "2a0584b6",
   "metadata": {},
   "outputs": [
    {
     "ename": "IndentationError",
     "evalue": "expected an indented block after 'while' statement on line 4 (3423612464.py, line 5)",
     "output_type": "error",
     "traceback": [
      "  \u001b[36mCell\u001b[39m\u001b[36m \u001b[39m\u001b[32mIn[1]\u001b[39m\u001b[32m, line 5\u001b[39m\n\u001b[31m    \u001b[39m\u001b[31melements.append(int(input()))\u001b[39m\n    ^\n\u001b[31mIndentationError\u001b[39m\u001b[31m:\u001b[39m expected an indented block after 'while' statement on line 4\n"
     ]
    }
   ],
   "source": [
    "\n",
    "# Get the list\n",
    "n = int(input(\"Enter the number of elements:\"))\n",
    "elements = []\n",
    "while n:\n",
    "elements.append(int(input()))\n",
    "n -= 1\n",
    "print(elements)\n",
    "# Print true if all elements are the same\n",
    "# Print false otherwise\n",
    "if (len(elements) < 2):\n",
    "print(\"True\")\n",
    "else:\n",
    "print(bool(elements.count(elements[0]) == len(elements)))\n"
   ]
  },
  {
   "cell_type": "code",
   "execution_count": null,
   "id": "0d90fbd8",
   "metadata": {},
   "outputs": [],
   "source": [
    "# Create a tuple\n",
    "\n",
    "my_tuple = (1, 2, \"Hello\", 3.4)\n",
    "\n",
    "print(my_tuple[0])\n",
    "\n",
    "# Cannot modify the values\n",
    "# my_tuple[1] = 9\n",
    "\n",
    "# Membership Testing\n",
    "print(1 in my_tuple)\n",
    "print(5 in my_tuple)\n",
    "\n",
    "# Tuple Unpacking\n",
    "a, b, c, d = my_tuple\n",
    "print(a,b,c,d)\n",
    "print(c.lower())\n"
   ]
  },
  {
   "cell_type": "code",
   "execution_count": null,
   "id": "210dafe2",
   "metadata": {},
   "outputs": [],
   "source": [
    "# Nested Tuple\n",
    "points = (\n",
    "    (1, 2, 3),\n",
    "    (4, 5, 6),\n",
    "    (7, 8, 9)\n",
    ")\n",
    "\n",
    "print(points[0][1])"
   ]
  }
 ],
 "metadata": {
  "kernelspec": {
   "display_name": "Python 3",
   "language": "python",
   "name": "python3"
  },
  "language_info": {
   "codemirror_mode": {
    "name": "ipython",
    "version": 3
   },
   "file_extension": ".py",
   "mimetype": "text/x-python",
   "name": "python",
   "nbconvert_exporter": "python",
   "pygments_lexer": "ipython3",
   "version": "3.12.1"
  }
 },
 "nbformat": 4,
 "nbformat_minor": 5
}
