{
 "cells": [
  {
   "cell_type": "code",
   "execution_count": null,
   "id": "8baa8acc",
   "metadata": {},
   "outputs": [],
   "source": [
    "# Create a set \n",
    "# Set is a collection of unique elements\n",
    "\n",
    "colors = {\"red\", \"blue\", \"green\"}\n",
    "\n",
    "numbers = set([1, 2, 3, 4, 3])\n",
    "\n",
    "#empty set\n",
    "empty_set = set()\n",
    "\n",
    "print(colors)\n",
    "print(numbers)\n",
    "print(empty_set)"
   ]
  },
  {
   "cell_type": "code",
   "execution_count": null,
   "id": "30b38a59",
   "metadata": {},
   "outputs": [],
   "source": [
    "\n",
    "set1 = {1, 2, 3, 4, 5}\n",
    "set2 = {3, 4, 5, 6, 7}\n",
    "\n",
    "# Combine elements from 2 sets (union)\n",
    "union_set = set1 | set2\n",
    "\n",
    "# Intersection of two sets \n",
    "intersection_set = set1 & set2\n",
    "\n",
    "# Difference of two sets\n",
    "difference_set = set1 - set2\n",
    "difference_set2 = set2 - set1\n",
    "# Symmetric difference\n",
    "difference_set3 = set2 ^ set1\n",
    "\n",
    "print(union_set)\n",
    "print(intersection_set)\n",
    "print(difference_set)\n",
    "print(difference_set2)\n",
    "print(difference_set3)"
   ]
  }
 ],
 "metadata": {
  "language_info": {
   "name": "python"
  }
 },
 "nbformat": 4,
 "nbformat_minor": 5
}
