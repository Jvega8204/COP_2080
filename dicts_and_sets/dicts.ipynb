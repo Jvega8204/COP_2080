{
 "cells": [
  {
   "cell_type": "code",
   "execution_count": null,
   "id": "e13f662d",
   "metadata": {},
   "outputs": [],
   "source": [
    "# Create a dictionary\n",
    "my_dict = {\"name\": \"Jack\", \"age\": 25, \"city\": \"Lakeland\"}\n",
    "\n",
    "my_dict2 = dict(name = \"Anna\", age = 19, city = \"Orlando\")\n",
    "\n",
    "print(my_dict)\n",
    "print(my_dict2)"
   ]
  },
  {
   "cell_type": "code",
   "execution_count": null,
   "id": "a5ace8df",
   "metadata": {},
   "outputs": [],
   "source": [
    "my_dict = {\"name\": \"Jack\", \"age\": 25, \"city\": \"Lakeland\"}\n",
    "# Access a value:\n",
    "print(my_dict[\"name\"])\n",
    "\n",
    "# Modify the value\n",
    "my_dict[\"age\"] = 20\n",
    "\n",
    "# Add a new key-value pair\n",
    "my_dict[\"email\"] = \"jack@floridapoly.edu\"\n",
    "\n",
    "print(my_dict)"
   ]
  },
  {
   "cell_type": "code",
   "execution_count": null,
   "id": "3eb2dc46",
   "metadata": {},
   "outputs": [],
   "source": [
    "# print(my_dict[\"gpa\"]) # generates an error\n",
    "\n",
    "# get method\n",
    "print(my_dict.get(\"gpa\", \"not found\")) # return \"not found\" if key doesn't exist"
   ]
  },
  {
   "cell_type": "code",
   "execution_count": null,
   "id": "df257930",
   "metadata": {},
   "outputs": [],
   "source": [
    "# keys - returns all the keys\n",
    "print(my_dict.keys())\n",
    "\n",
    "# values - returns all the values\n",
    "print(my_dict.values())\n",
    "\n",
    "# items - returns key-value pairs\n",
    "print(my_dict.items())\n",
    "\n"
   ]
  },
  {
   "cell_type": "code",
   "execution_count": null,
   "id": "0d05e9f1",
   "metadata": {},
   "outputs": [],
   "source": [
    "# iteration over dictionaries\n",
    "info = dict(name = \"Anna\", age = 19, city = \"Orlando\")\n",
    "for key in info:\n",
    "    print(key, info[key])\n",
    "\n",
    "for key, value in my_dict.items():\n",
    "    print(f\"{key} -> {value}\")\n"
   ]
  },
  {
   "cell_type": "code",
   "execution_count": null,
   "id": "fdb0e6e1",
   "metadata": {},
   "outputs": [],
   "source": [
    "# Count the frequency of words\n",
    "msg = \"apple banana orange apple orange apple\"\n",
    "words = msg.split(\" \")\n",
    "# create a dictionary\n",
    "word_count = {}\n",
    "for word in words:\n",
    "    word_count[word] = word_count.get(word, 0) + 1\n",
    "\n",
    "print(word_count)"
   ]
  }
 ],
 "metadata": {
  "language_info": {
   "name": "python"
  }
 },
 "nbformat": 4,
 "nbformat_minor": 5
}
