{
 "cells": [
  {
   "cell_type": "code",
   "execution_count": 14,
   "id": "80311055",
   "metadata": {},
   "outputs": [
    {
     "ename": "TypeError",
     "evalue": "unsupported operand type(s) for +: 'int' and 'str'",
     "output_type": "error",
     "traceback": [
      "\u001b[31m---------------------------------------------------------------------------\u001b[39m",
      "\u001b[31mTypeError\u001b[39m                                 Traceback (most recent call last)",
      "\u001b[36mCell\u001b[39m\u001b[36m \u001b[39m\u001b[32mIn[14]\u001b[39m\u001b[32m, line 3\u001b[39m\n\u001b[32m      1\u001b[39m a = \u001b[32m1\u001b[39m\n\u001b[32m----> \u001b[39m\u001b[32m3\u001b[39m \u001b[43ma\u001b[49m\u001b[43m \u001b[49m\u001b[43m+\u001b[49m\u001b[43m \u001b[49m\u001b[33;43m\"\u001b[39;49m\u001b[33;43ma\u001b[39;49m\u001b[33;43m\"\u001b[39;49m\n\u001b[32m      5\u001b[39m \u001b[38;5;28mprint\u001b[39m(\u001b[33m\"\u001b[39m\u001b[33mVery important code\u001b[39m\u001b[33m\"\u001b[39m)\n",
      "\u001b[31mTypeError\u001b[39m: unsupported operand type(s) for +: 'int' and 'str'"
     ]
    }
   ],
   "source": [
    "a = 1\n",
    "\n",
    "a + \"a\"\n",
    "\n",
    "print(\"Very important code\")"
   ]
  },
  {
   "cell_type": "code",
   "execution_count": null,
   "id": "2f40c7ea",
   "metadata": {},
   "outputs": [
    {
     "name": "stdout",
     "output_type": "stream",
     "text": [
      "cannot add string and an int\n",
      "Very important code\n"
     ]
    }
   ],
   "source": [
    " #try except block \n",
    "\n",
    "try:\n",
    "    a = 1 \n",
    "    a + \"a\"\n",
    "except TypeError as e:\n",
    "    #do something to handle the exception\n",
    "    print(\"cannot add string and an int\")\n",
    "\n",
    "print(\"Very important code\")"
   ]
  },
  {
   "cell_type": "code",
   "execution_count": null,
   "id": "2544657b",
   "metadata": {},
   "outputs": [
    {
     "name": "stdout",
     "output_type": "stream",
     "text": [
      "Index out of the range\n"
     ]
    }
   ],
   "source": [
    "def f():\n",
    "    l = [1,2,3]\n",
    "    print(l[3])\n",
    "try: \n",
    "    f()\n",
    "except IndexError as e:\n",
    "    print(\"Index out of the range\")"
   ]
  },
  {
   "cell_type": "code",
   "execution_count": null,
   "id": "23d7710f",
   "metadata": {},
   "outputs": [
    {
     "name": "stdout",
     "output_type": "stream",
     "text": [
      "I want this to be printed\n",
      "123345\n",
      "Exiting\n"
     ]
    }
   ],
   "source": [
    "# we can raise exceptions \n",
    "def add_strings(s1,s2):\n",
    "    if not (isinstance(s1,str) and isinstance(s2,str)):\n",
    "        raise TypeError(\"Both arguments should be strings\")\n",
    "    return s1 + s2\n",
    "add_strings(\"123\",\"345\")\n",
    "try: \n",
    "    sum_str = add_strings(\"123\",\"345\")  #if no error, then this will print \n",
    "    print(\"I want this to be printed\")\n",
    "\n",
    "except TypeError as e:\n",
    "    print(f\"Error: {e}\")   #if there is an error with the statement above, this will print\n",
    "else:  \n",
    "    print(sum_str)   # this will only print of the try is correct\n",
    "finally: \n",
    "    print(\"Exiting\")   # this will print no matter if there is an exception or not"
   ]
  },
  {
   "cell_type": "code",
   "execution_count": null,
   "id": "d2287dbe",
   "metadata": {},
   "outputs": [
    {
     "name": "stdout",
     "output_type": "stream",
     "text": [
      "Error: temperature has to be a number \n"
     ]
    }
   ],
   "source": [
    "#create a custon exception\n",
    "class TemperatureRangeError(ValueError):\n",
    "    pass\n",
    "\n",
    "\n",
    "class temperature:\n",
    "    def __init__(self,celsius):\n",
    "        if not isinstance(celsius, (int,float)):\n",
    "            raise TypeError(\"temperature has to be a number \")\n",
    "        elif celsius < -273:\n",
    "            raise ValueError(\"Temperature cannot be below absolute zero (-273)\")\n",
    "        \n",
    "        self.celsius = celsius\n",
    "        self.min_temp = 0 \n",
    "        self.max_temp = 0 \n",
    "    def set_range(self, min_temp, max_temp):\n",
    "        if not (isinstance(min_temp, temperature) and isinstance(max_temp, temperature)):\n",
    "            raise TypeError(\"Temperature must be a temperature object\")\n",
    "        elif min_temp.celsius > max_temp.celsius:\n",
    "            raise TemperatureRangeError(\"Min cannot be greater than max\")\n",
    "\n",
    "try:\n",
    "    temp = temperature(\"-30\")\n",
    "except ValueError as e:\n",
    "    print(e)\n",
    "except TypeError as e:\n",
    "    print(f\"Error: {e}\")\n",
    "else:\n",
    "    print(f\"{temp.celsius} C\")"
   ]
  }
 ],
 "metadata": {
  "kernelspec": {
   "display_name": "Python 3",
   "language": "python",
   "name": "python3"
  },
  "language_info": {
   "codemirror_mode": {
    "name": "ipython",
    "version": 3
   },
   "file_extension": ".py",
   "mimetype": "text/x-python",
   "name": "python",
   "nbconvert_exporter": "python",
   "pygments_lexer": "ipython3",
   "version": "3.12.1"
  }
 },
 "nbformat": 4,
 "nbformat_minor": 5
}
