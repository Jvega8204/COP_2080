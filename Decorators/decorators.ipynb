{
 "cells": [
  {
   "cell_type": "code",
   "execution_count": 2,
   "id": "0f98c4ab",
   "metadata": {},
   "outputs": [
    {
     "name": "stdout",
     "output_type": "stream",
     "text": [
      "f took: 0.300274133682251\n"
     ]
    }
   ],
   "source": [
    "# Measure the excution time of function\n",
    "#Import time functions (specific import)\n",
    "from time import sleep,time\n",
    "\n",
    "def f():\n",
    "    sleep(0.3) #stops the execution on the given number of seconds\n",
    "def g():\n",
    "    sleep(0.5) #stops the execution on the given number of seconds\n",
    "\n",
    "t = time() # returns the number of seconds from 01/01/1970\n",
    "f()\n",
    "print(\"f took:\", time() -t)\n"
   ]
  },
  {
   "cell_type": "code",
   "execution_count": 3,
   "id": "bc56e2f6",
   "metadata": {},
   "outputs": [
    {
     "name": "stdout",
     "output_type": "stream",
     "text": [
      "f took:  0.3000824451446533\n",
      "g took:  0.5000925064086914\n"
     ]
    }
   ],
   "source": [
    "# lets create a function that takes another function\n",
    "def measure(func):\n",
    "    t = time() #starting time\n",
    "    func() #function call\n",
    "    print(func.__name__, \"took: \", time()-t)\n",
    "measure(f)\n",
    "measure(g)\n"
   ]
  },
  {
   "cell_type": "code",
   "execution_count": null,
   "id": "84d6e920",
   "metadata": {},
   "outputs": [
    {
     "name": "stdout",
     "output_type": "stream",
     "text": [
      "f2 took:  0.10009193420410156\n",
      "f2 took:  0.9000887870788574\n",
      "f2 took:  1.000110149383545\n"
     ]
    }
   ],
   "source": [
    "#take a function with arguments\n",
    "\n",
    "def f2(sleep_time = 0.1):\n",
    "    sleep(sleep_time) #stops the execution on the given number of seconds\n",
    "\n",
    "def measure(func, *args, **kwargs):\n",
    "    t = time() #starting time\n",
    "    func(*args,**kwargs) #function call\n",
    "    print(func.__name__, \"took: \", time()-t)\n",
    "measure(f2)\n",
    "measure(f2, 0.9)\n",
    "measure(f2, sleep_time = 1)\n"
   ]
  },
  {
   "cell_type": "code",
   "execution_count": 8,
   "id": "127b6987",
   "metadata": {},
   "outputs": [
    {
     "name": "stdout",
     "output_type": "stream",
     "text": [
      "f2 took:  0.5001006126403809\n"
     ]
    }
   ],
   "source": [
    "#take a function with arguments\n",
    "@measure\n",
    "def f2(sleep_time = 0.1):\n",
    "    sleep(sleep_time) #stops the execution on the given number of seconds\n",
    "\n",
    "#measure is a decorator\n",
    "def measure(func, *args, **kwargs):\n",
    "    def wrapper(*args, **kwargs):\n",
    "        t = time() #starting time\n",
    "        func(*args,**kwargs) #function call\n",
    "        print(func.__name__, \"took: \", time()-t)\n",
    "    return wrapper\n",
    "\n",
    "f2(0.5)"
   ]
  }
 ],
 "metadata": {
  "kernelspec": {
   "display_name": "Python 3",
   "language": "python",
   "name": "python3"
  },
  "language_info": {
   "codemirror_mode": {
    "name": "ipython",
    "version": 3
   },
   "file_extension": ".py",
   "mimetype": "text/x-python",
   "name": "python",
   "nbconvert_exporter": "python",
   "pygments_lexer": "ipython3",
   "version": "3.12.1"
  }
 },
 "nbformat": 4,
 "nbformat_minor": 5
}
