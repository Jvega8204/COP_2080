{
 "cells": [
  {
   "cell_type": "code",
   "execution_count": null,
   "id": "a6f8ff48",
   "metadata": {},
   "outputs": [],
   "source": [
    "# This is a single-line comment\n",
    "\n",
    "\"\"\"\n",
    "08/20/2025\n",
    "Introduction to Python\n",
    "\"\"\"\n",
    "\n",
    "print(\"Comments are not executed\")"
   ]
  },
  {
   "cell_type": "code",
   "execution_count": null,
   "id": "afab42b5",
   "metadata": {},
   "outputs": [],
   "source": [
    "# Variables\n",
    "name = \"Jack\"\n",
    "age = 25\n",
    "height = 5.6\n",
    "\n",
    "print(name, age, height)\n"
   ]
  },
  {
   "cell_type": "code",
   "execution_count": null,
   "id": "dd6520fe",
   "metadata": {},
   "outputs": [],
   "source": [
    "# Declaring Variables with Type Annotations\n",
    "name: str = \"Igor\"\n",
    "age: int = 30\n",
    "height: float = 6.0\n",
    "\n",
    "print(f\"Name: {name}, Age: {age}, Height: {height}\")"
   ]
  },
  {
   "cell_type": "code",
   "execution_count": null,
   "id": "711e1c0f",
   "metadata": {},
   "outputs": [],
   "source": [
    "# Arithmetic\n",
    "a = 5\n",
    "b = 9\n",
    "print(b / a)\n",
    "print(b // a)   # integer division\n",
    "print(b**a)     # exponent\n",
    "print(b % a)    # the remainder\n"
   ]
  }
 ],
 "metadata": {
  "language_info": {
   "name": "python"
  }
 },
 "nbformat": 4,
 "nbformat_minor": 5
}
