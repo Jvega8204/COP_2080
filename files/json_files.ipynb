{
 "cells": [
  {
   "cell_type": "code",
   "execution_count": 1,
   "id": "e8f738d0",
   "metadata": {},
   "outputs": [
    {
     "name": "stdout",
     "output_type": "stream",
     "text": [
      "/workspaces/COP_2080\n",
      "/workspaces/COP_2080/Inheritance/inhertiance.py 1080 bytes\n",
      "/workspaces/COP_2080/fraction/fraction.py 1150 bytes\n",
      "/workspaces/COP_2080/classes/class_methods.py 732 bytes\n"
     ]
    }
   ],
   "source": [
    "from pathlib import Path\n",
    "\n",
    "p = Path(\".\").absolute().parent\n",
    "\n",
    "print(p.absolute())\n",
    "\n",
    "#Find all python files in the directonary\n",
    "\n",
    "for py_file in p.rglob(\"*.py\"):\n",
    "    print(py_file,py_file.stat().st_size,\"bytes\")"
   ]
  }
 ],
 "metadata": {
  "kernelspec": {
   "display_name": "Python 3",
   "language": "python",
   "name": "python3"
  },
  "language_info": {
   "codemirror_mode": {
    "name": "ipython",
    "version": 3
   },
   "file_extension": ".py",
   "mimetype": "text/x-python",
   "name": "python",
   "nbconvert_exporter": "python",
   "pygments_lexer": "ipython3",
   "version": "3.12.1"
  }
 },
 "nbformat": 4,
 "nbformat_minor": 5
}
