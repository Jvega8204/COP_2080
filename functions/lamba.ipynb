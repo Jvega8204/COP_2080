{
 "cells": [
  {
   "cell_type": "code",
   "execution_count": null,
   "id": "37f9f5f2",
   "metadata": {},
   "outputs": [],
   "source": [
    "add = lambda x, y: x + y\n",
    "subtract = lambda x, y: x - y\n",
    "multiply = lambda x, y: x * y\n",
    "divide = lambda x, y: x / y if y != 0 else \"Error: Division by zero\"\n",
    "# Test cases\n",
    "test_inputs = [(10, 5), (8, 0), (3, 4)]\n",
    "for x, y in test_inputs:\n",
    "print(f\"Inputs: {x}, {y}\")\n",
    "print(f\"Add: {add(x, y)}\")\n",
    "print(f\"Subtract: {subtract(x, y)}\")\n",
    "print(f\"Multiply: {multiply(x, y)}\")\n",
    "print(f\"Divide: {divide(x, y)}\")\n",
    "print()\n"
   ]
  }
 ],
 "metadata": {
  "language_info": {
   "name": "python"
  }
 },
 "nbformat": 4,
 "nbformat_minor": 5
}
