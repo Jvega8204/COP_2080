{
 "cells": [
  {
   "cell_type": "code",
   "execution_count": null,
   "id": "dd3a5220",
   "metadata": {},
   "outputs": [],
   "source": [
    "# Function that creates a message\n",
    "def create_message(prefix, *args):\n",
    "s = str(prefix) + \": \"\n",
    "for arg in args:\n",
    "s += str(arg) + \" \"\n",
    "print(s)\n",
    "def create_mes(*args, **kwargs):\n",
    "# Find the key in kwargs\n",
    "separator = kwargs.get(\"separator\", \" \")\n",
    "s = \"\"\n",
    "for arg in args:\n",
    "s += str(arg) + separator\n",
    "return s[:-1]\n",
    "# Call a function\n",
    "create_message(\"Status\", \"Temp\", 25, \"Degree\")\n",
    "create_message(\"Alert\", \"System\", \"is\", \"online\")\n",
    "print(create_mes(\"a\", \"b\", separator = \"-\"))\n",
    "# Qpy-th-on1\n"
   ]
  }
 ],
 "metadata": {
  "language_info": {
   "name": "python"
  }
 },
 "nbformat": 4,
 "nbformat_minor": 5
}
