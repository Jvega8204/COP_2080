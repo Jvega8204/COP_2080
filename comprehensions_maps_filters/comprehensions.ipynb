{
 "cells": [
  {
   "cell_type": "code",
   "execution_count": null,
   "id": "b76ad438",
   "metadata": {},
   "outputs": [],
   "source": [
    "# Create a function that returns squares of even numbers in the given range\n",
    "def squares_of_evens(start, end):\n",
    "return [x**2 for x in range(start, end + 1) if x % 2 == 0]\n",
    "print(squares_of_evens(4, 19))\n",
    "print(squares_of_evens(10, 100))\n",
    "def long_upper_words(words):\n",
    "\"\"\"Return a list of uppercase words longer that 3 characters\"\"\"\n",
    "return [word.upper() for word in words if len(word) > 3]\n",
    "words = [\"hello\", \"banana\", \"BMW\", \"bye\", \"POLY\"]\n",
    "print(long_upper_words(words))\n",
    "# Create a function that return a dictionary mapping each word to its length from a\n",
    "list of words\n",
    "def word_lengths(words):\n",
    "return {key:value } #TODO\n",
    "print(word_lengths(words))\n"
   ]
  }
 ],
 "metadata": {
  "language_info": {
   "name": "python"
  }
 },
 "nbformat": 4,
 "nbformat_minor": 5
}
