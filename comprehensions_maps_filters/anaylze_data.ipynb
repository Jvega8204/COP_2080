{
 "cells": [
  {
   "cell_type": "code",
   "execution_count": null,
   "id": "17a8eb9d",
   "metadata": {},
   "outputs": [],
   "source": [
    "def analyze_data(data):\n",
    "\"\"\"Calculate multiple statistics for a list of numbers.\n",
    "Args:\n",
    "data (list): List of numbers.\n",
    "Returns:\n",
    "tuple: Mean, minimum, and maximum of the list.\n",
    "\"\"\"\n",
    "mean = sum(data) / len(data)\n",
    "minimum = min(data)\n",
    "maximum = max(data)\n",
    "return mean, minimum, maximum\n",
    "# Usage\n",
    "numbers = [1, 5, 3, 8, 2]\n",
    "avg, min_val, max_val = analyze_data(numbers)\n",
    "print(f\"Mean: {avg}, Min: {min_val}, Max: {max_val}\") # Output: Mean: 3.8, Min: 1,\n",
    "Max: 8\n"
   ]
  }
 ],
 "metadata": {
  "language_info": {
   "name": "python"
  }
 },
 "nbformat": 4,
 "nbformat_minor": 5
}
